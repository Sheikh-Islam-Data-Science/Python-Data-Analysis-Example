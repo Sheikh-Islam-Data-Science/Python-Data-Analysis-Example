{
 "cells": [
  {
   "cell_type": "markdown",
   "id": "a9a81918",
   "metadata": {},
   "source": [
    "\n",
    "# 📊 ছাত্রদের নম্বর বিশ্লেষণ\n",
    "এই নোটবুকে আমরা:\n",
    "- ডেটাসেট তৈরি করব\n",
    "- গড় নম্বর বের করব\n",
    "- ডেটার সারাংশ দেখব\n",
    "- সাজানো ও ফিল্টার করব\n",
    "- গ্রুপিং করব\n",
    "- ভিজ্যুয়ালাইজেশন করব\n"
   ]
  },
  {
   "cell_type": "code",
   "execution_count": null,
   "id": "66a44638",
   "metadata": {},
   "outputs": [],
   "source": [
    "\n",
    "import pandas as pd\n",
    "\n",
    "data = {\n",
    "    'নাম': ['রাহুল', 'সুমাইয়া', 'তানভীর', 'মাহি', 'নাবিলা', 'আরিফ', 'সাবিনা', 'জাহিদ', 'মিতু', 'রুবেল'],\n",
    "    'গণিত': [85, 90, 78, 92, 88, 75, 80, 95, 70, 82],\n",
    "    'বিজ্ঞান': [80, 85, 75, 95, 90, 72, 78, 98, 68, 84],\n",
    "    'ইংরেজি': [78, 88, 82, 85, 87, 74, 79, 91, 69, 83]\n",
    "}\n",
    "\n",
    "df = pd.DataFrame(data)\n",
    "df['গড় নম্বর'] = df[['গণিত', 'বিজ্ঞান', 'ইংরেজি']].mean(axis=1)\n",
    "df\n"
   ]
  },
  {
   "cell_type": "code",
   "execution_count": null,
   "id": "301462ed",
   "metadata": {},
   "outputs": [],
   "source": [
    "\n",
    "df.describe()\n"
   ]
  },
  {
   "cell_type": "code",
   "execution_count": null,
   "id": "60f1a2ce",
   "metadata": {},
   "outputs": [],
   "source": [
    "\n",
    "df.sort_values(by='গড় নম্বর', ascending=False)\n"
   ]
  },
  {
   "cell_type": "code",
   "execution_count": null,
   "id": "0d0d8898",
   "metadata": {},
   "outputs": [],
   "source": [
    "\n",
    "df[df['গড় নম্বর'] > 85]\n"
   ]
  },
  {
   "cell_type": "code",
   "execution_count": null,
   "id": "9d353201",
   "metadata": {},
   "outputs": [],
   "source": [
    "\n",
    "df['গ্রুপ'] = ['A','A','B','B','A','B','A','B','A','B']\n",
    "df.groupby('গ্রুপ')['গড় নম্বর'].mean()\n"
   ]
  },
  {
   "cell_type": "code",
   "execution_count": null,
   "id": "bbca8338",
   "metadata": {},
   "outputs": [],
   "source": [
    "\n",
    "import matplotlib.pyplot as plt\n",
    "\n",
    "plt.figure(figsize=(10,6))\n",
    "plt.bar(df['নাম'], df['গড় নম্বর'], color='skyblue')\n",
    "plt.title('ছাত্রদের গড় নম্বর', fontsize=14)\n",
    "plt.xlabel('নাম', fontsize=12)\n",
    "plt.ylabel('গড় নম্বর', fontsize=12)\n",
    "plt.xticks(rotation=45)\n",
    "plt.tight_layout()\n",
    "plt.show()\n"
   ]
  }
 ],
 "metadata": {},
 "nbformat": 4,
 "nbformat_minor": 5
}
